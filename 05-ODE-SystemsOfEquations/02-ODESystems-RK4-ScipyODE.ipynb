{
 "cells": [
  {
   "cell_type": "markdown",
   "metadata": {},
   "source": [
    "# Systems of Ordinary Differential Equations\n",
    "\n",
    "Previously we studied systems where there was only one interesting variable so the differential equation describe only changes on that variable. There are systems where the state is described by two or more variables. In this case, we have several differential equations, like the following\n",
    "$$\\frac{dx}{dt} = f_1(x, y, t)\\\\\n",
    "\\frac{dy}{dt} = f_2(x, y, t),$$\n",
    "where $x$ and $y$ are variables that describe the system state  and $f_1$ and $f_2$ are the functions describing their derivatives. To solve this system and improve the notation we can think of $x$ and $y$ as the components of a state vector called, for example, $\\vec s = [x, y]$. Also, the function $f_1$ and $f_2$ can be seen as the components of a vector, let's call it $\\vec f = [f_1, f_2]$. By using this , we can rewrite the system as\n",
    "$$\\frac{d\\vec s}{dt} = \\vec f(\\vec s, t).$$\n",
    "Solving this system is similar to what we did with the Euler, only that now everything is vectorial, but the same basic equation applies:\n",
    "$$\\vec s_{i+1} = \\vec s_i + \\vec f \\delta t.$$\n",
    "Therefore, you need to define a function to model $\\vec f$ that receives the state vector $\\vec s$, the current time, and returns the derivatives. "
   ]
  },
  {
   "cell_type": "markdown",
   "metadata": {},
   "source": [
    "# The Harmonic oscillator\n",
    "\n",
    "The harmonic oscillator is a paradigmatic example used in many applications, not only physics but also biology.\n",
    "It is described by the following equation,\n",
    "$$\\frac{d^2x}{dt^2} = -\\frac{k}{m} x,$$\n",
    "where $x$ is the elongation, $k$ the elastic constant, and $m$ the mass attached the spring. The theoretical solution is \n",
    "$$x(t) = A\\cos(\\omega t + \\phi),$$\n",
    "where $A$ is the amplitude and $\\phi$ the phase (both of which depend on the initial condition). And $\\omega = \\sqrt{k/m}$ is the frequency. \n",
    "\n",
    "In order to solve the previous differential equation, we need to transform it into a system of first order equations. We do this by introducing a new variable, the velocity, which is the derivative of the position, so now we have $\\vec s = [x, v]$ and\n",
    "$$\n",
    "\\frac{dx}{dt} = v,\\\\\n",
    "\\frac{dv}{dt} = -\\frac{k}{m} x,\n",
    "$$\n",
    "so $\\vec f = [v, -\\frac{k}{m} x]$ . \n",
    "\n",
    "The exercise is to solve the previous equation for both the position and the velocity and to compare with the theoretical solution, using the Euler method. Choose the following : $k = 1.234$, $m=2.345$, $t \\in [0, 2.2\\pi/\\omega]$, $x(0) = 0.45$, $v(0) = 0$, $\\delta t = 0.2\\pi/\\omega$."
   ]
  },
  {
   "cell_type": "code",
   "execution_count": null,
   "metadata": {},
   "outputs": [],
   "source": []
  },
  {
   "cell_type": "markdown",
   "metadata": {},
   "source": [
    "# The Runge-Kutta method\n",
    "asdasd asd as das d\n"
   ]
  },
  {
   "cell_type": "code",
   "execution_count": null,
   "metadata": {},
   "outputs": [],
   "source": []
  }
 ],
 "metadata": {
  "kernelspec": {
   "display_name": "Python [default]",
   "language": "python",
   "name": "python3"
  },
  "language_info": {
   "codemirror_mode": {
    "name": "ipython",
    "version": 3
   },
   "file_extension": ".py",
   "mimetype": "text/x-python",
   "name": "python",
   "nbconvert_exporter": "python",
   "pygments_lexer": "ipython3",
   "version": "3.6.5"
  },
  "latex_envs": {
   "LaTeX_envs_menu_present": true,
   "autoclose": true,
   "autocomplete": true,
   "bibliofile": "biblio.bib",
   "cite_by": "apalike",
   "current_citInitial": 1,
   "eqLabelWithNumbers": true,
   "eqNumInitial": 1,
   "hotkeys": {
    "equation": "Ctrl-E",
    "itemize": "Ctrl-I"
   },
   "labels_anchors": false,
   "latex_user_defs": false,
   "report_style_numbering": false,
   "user_envs_cfg": false
  },
  "toc": {
   "base_numbering": 1,
   "nav_menu": {},
   "number_sections": true,
   "sideBar": true,
   "skip_h1_title": false,
   "title_cell": "Table of Contents",
   "title_sidebar": "Contents",
   "toc_cell": false,
   "toc_position": {},
   "toc_section_display": true,
   "toc_window_display": false
  }
 },
 "nbformat": 4,
 "nbformat_minor": 2
}
