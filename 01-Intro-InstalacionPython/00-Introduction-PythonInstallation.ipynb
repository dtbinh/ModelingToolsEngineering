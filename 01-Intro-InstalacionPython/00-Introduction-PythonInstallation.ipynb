{
 "cells": [
  {
   "cell_type": "markdown",
   "metadata": {},
   "source": [
    "# Herramientas de Modelación\n",
    "\n",
    "**Asignatura de la Maestría en Gestión y Diseño de Procesos\n",
    "\n",
    "woquendo@gmail.com\n",
    "\n",
    "## Objective\n",
    "> Desarrollar en el estudiante las competencias de Desarrollar y gestionar proyectos de investigación y de mejora de  procesos desde una perspectiva rigurosa, sostenible, ética y eficiente de la ingeniería, y Diseñar procesos y productos que contribuyan a la innovación de las organizaciones a través de soluciones de ingeniería que integren conocimientos interdisciplinarios.`"
   ]
  },
  {
   "cell_type": "markdown",
   "metadata": {},
   "source": [
    "## Topics"
   ]
  },
  {
   "cell_type": "markdown",
   "metadata": {},
   "source": [
    "1. Introducción. Modelado matemático y solución de problemas en ingeniería.\n",
    "2. Solución de ecuaciones no lineales, búsqueda de raíces.\n",
    "    - Métodos de dominio cerrado y abierto.\n",
    "    - Raíces de polinomios. \n",
    "    - Implementación computacional.\n",
    "3. Solución de sistemas de ecuaciones lineales. \n",
    "    - Representación vectorial y matricial. Propiedades de vectores y matrices.\n",
    "    - Métodos de eliminación y Descomposición LU.\n",
    "    - Implementación computacional.\n",
    "4. Solución de ecuaciones diferenciales ordinarias. \n",
    "    - Métodos de Runge-Kutta. \n",
    "    - Métodos multipaso. \n",
    "    - Sistemas de ecuaciones diferenciales ordinarias. Problemas de valores propios.\n",
    "    - Implementación computacional.\n",
    "5. Solución de ecuaciones diferenciales parciales. \n",
    "    - Métodos de diferenciación e integración numérica.\n",
    "    - Método de elementos finitos.\n",
    "    - Implementación computacional.\n",
    "6. Optimización.\n",
    "    - Soluciones de modelos de programación lineal. \n",
    "    - Soluciones gráficas el método simplex.                                            \n",
    "    - Modelos de programación entera problema de BinPacking y Knapsack.                              \n",
    "7. Trabajo práctico en el énfasis."
   ]
  },
  {
   "cell_type": "markdown",
   "metadata": {},
   "source": [
    "\n",
    "\n",
    "## Schedule\n",
    "|Session   | Topic  | Instructor  | \n",
    "|---|:-|:-:|\n",
    "|1   |Introduction   | William Oquendo   |   \n",
    "|2   |Non-linear Systems : Solutions   |William Oquendo   |   \n",
    "|3   |Linear Systems. Matrices  |William Oquendo   |   \n",
    "|4   |Ordinary differential equations I: Euler   |William Oquendo   |   \n",
    "|5   |Ordinary Differential equations II : Runge Kutta   |William Oquendo   |   \n",
    "|6   |Systems of ODE   |William Oquendo   |   \n",
    "|7   |Eigen values and phase space for ODE   |William Oquendo   |   \n",
    "|8   |Finite Element I   | Camilo Rengifo  |   \n",
    "|9   |Finite Element II   |Camilo Rengifo   |   \n",
    "|10   |Partial Differential Equations   | Camilo Rengifo   |   \n",
    "|11   | Optimization  |Cesar Lopez   |   \n",
    "|12   | Simplex Method I  | Cesar Lopez  |   \n",
    "|13   | Simplex Method II  | Cesar Lopez  |   \n",
    "|14   | Emphasis  | Instructor  |   \n",
    "|15   | Emphasis  | Instructor  |   \n",
    "|16   | Emphasis  | Instructor  |   "
   ]
  },
  {
   "cell_type": "code",
   "execution_count": null,
   "metadata": {},
   "outputs": [],
   "source": []
  }
 ],
 "metadata": {
  "kernelspec": {
   "display_name": "Python [default]",
   "language": "python",
   "name": "python3"
  },
  "language_info": {
   "codemirror_mode": {
    "name": "ipython",
    "version": 3
   },
   "file_extension": ".py",
   "mimetype": "text/x-python",
   "name": "python",
   "nbconvert_exporter": "python",
   "pygments_lexer": "ipython3",
   "version": "3.6.5"
  },
  "toc": {
   "base_numbering": 1,
   "nav_menu": {},
   "number_sections": true,
   "sideBar": true,
   "skip_h1_title": false,
   "title_cell": "Table of Contents",
   "title_sidebar": "Contents",
   "toc_cell": false,
   "toc_position": {},
   "toc_section_display": true,
   "toc_window_display": true
  }
 },
 "nbformat": 4,
 "nbformat_minor": 2
}
